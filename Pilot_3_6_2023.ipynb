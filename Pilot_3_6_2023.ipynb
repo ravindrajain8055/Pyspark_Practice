{
  "nbformat": 4,
  "nbformat_minor": 0,
  "metadata": {
    "colab": {
      "provenance": [],
      "authorship_tag": "ABX9TyN8j/ImL+xdT+LBleDRogjC",
      "include_colab_link": true
    },
    "kernelspec": {
      "name": "python3",
      "display_name": "Python 3"
    },
    "language_info": {
      "name": "python"
    }
  },
  "cells": [
    {
      "cell_type": "markdown",
      "metadata": {
        "id": "view-in-github",
        "colab_type": "text"
      },
      "source": [
        "<a href=\"https://colab.research.google.com/github/ravindrajain8055/Pyspark_Practice/blob/main/Pilot_3_6_2023.ipynb\" target=\"_parent\"><img src=\"https://colab.research.google.com/assets/colab-badge.svg\" alt=\"Open In Colab\"/></a>"
      ]
    },
    {
      "cell_type": "code",
      "execution_count": 1,
      "metadata": {
        "colab": {
          "base_uri": "https://localhost:8080/"
        },
        "id": "7LCCpDP_WuGh",
        "outputId": "8d41256b-a5a6-46bb-e201-75872a82a1ed"
      },
      "outputs": [
        {
          "output_type": "stream",
          "name": "stdout",
          "text": [
            "Mounted at /content/drive\n"
          ]
        }
      ],
      "source": [
        "from google.colab import drive\n",
        "drive.mount('/content/drive')"
      ]
    },
    {
      "cell_type": "code",
      "source": [
        "!pip install pyspark"
      ],
      "metadata": {
        "id": "ZkF3rNWMXVIo"
      },
      "execution_count": null,
      "outputs": []
    },
    {
      "cell_type": "markdown",
      "source": [
        "To initialize the PySpark session before coding.\n",
        "\n",
        "from pyspark.sql import SparkSession\n",
        "spark = SparkSession.builder\\\n",
        "        .master(\"local\")\\\n",
        "        .appName(\"Colab\")\\\n",
        "        .config('spark.ui.port', '4050')\\\n",
        "        .getOrCreate()\n",
        "\n",
        "we have pass two parameters which are the path of our CSV file and header=True for accepting the header of our CSV file.\n",
        "\n",
        "df = spark.read.csv('/content/Mall_Customers.csv', header=True)\n",
        "\n",
        "df = df.na.drop()\n",
        "df.select(\"Gender\",\"Age\").show(5)\n",
        "df.count()\n"
      ],
      "metadata": {
        "id": "LzSLT29od2yf"
      }
    },
    {
      "cell_type": "code",
      "source": [],
      "metadata": {
        "id": "_jL6e6KSeqio"
      },
      "execution_count": null,
      "outputs": []
    }
  ]
}